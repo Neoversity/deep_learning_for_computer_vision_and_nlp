{
 "cells": [
  {
   "cell_type": "markdown",
   "id": "6549a931-feb1-40d8-a63f-e38aa12dd0e6",
   "metadata": {},
   "source": [
    "## 1. Здійсніть імпорт необхідних бібліотек."
   ]
  },
  {
   "cell_type": "code",
   "execution_count": 1,
   "id": "55dcce16-c34f-44ad-9cfe-c6b9fee5a72e",
   "metadata": {},
   "outputs": [],
   "source": [
    "import torch\n",
    "import torchvision\n",
    "import torchvision.transforms as transforms\n",
    "from torch.utils.data import DataLoader, random_split\n",
    "import os\n",
    "from pathlib import Path\n"
   ]
  },
  {
   "cell_type": "code",
   "execution_count": 2,
   "id": "85f5f502-31e5-4179-8055-a227147a2a1d",
   "metadata": {},
   "outputs": [
    {
     "name": "stdout",
     "output_type": "stream",
     "text": [
      "Новий робочий каталог: c:\\Users\\anton\\PythonProjects\\Neoversity\\deep learning\\hw6\n"
     ]
    }
   ],
   "source": [
    "import os\n",
    "os.chdir(r\"c:\\Users\\anton\\PythonProjects\\Neoversity\\deep learning\\hw6\")\n",
    "print(\"Новий робочий каталог:\", os.getcwd())\n"
   ]
  },
  {
   "cell_type": "code",
   "execution_count": 3,
   "id": "835cae4d-1375-467e-bc7d-c9db864f445b",
   "metadata": {},
   "outputs": [],
   "source": [
    "# Шляхи до даних\n",
    "dataset_path = Path(\"seg_train\")\n",
    "test_path = Path(\"seg_test\")"
   ]
  },
  {
   "cell_type": "code",
   "execution_count": 4,
   "id": "f864b10f-ec9a-42b7-b9ce-d67c3e6a3798",
   "metadata": {},
   "outputs": [],
   "source": [
    "# Трансформації для зображень\n",
    "transform = transforms.Compose([\n",
    "    transforms.Resize((150, 150)),  # Зміна розміру\n",
    "    transforms.ToTensor(),  # Перетворення в тензор\n",
    "    transforms.Normalize(mean=[0.5, 0.5, 0.5], std=[0.5, 0.5, 0.5])  # Нормалізація\n",
    "])"
   ]
  },
  {
   "cell_type": "code",
   "execution_count": 5,
   "id": "26477e29-1723-42e5-a4da-b96b899dae7b",
   "metadata": {},
   "outputs": [],
   "source": [
    "# Завантаження даних\n",
    "dataset = torchvision.datasets.ImageFolder(root=dataset_path, transform=transform)\n"
   ]
  },
  {
   "cell_type": "code",
   "execution_count": 6,
   "id": "44fcf389-7b54-4224-8532-7f65e78d02f9",
   "metadata": {},
   "outputs": [
    {
     "name": "stdout",
     "output_type": "stream",
     "text": [
      "Тренувальних зразків: 11227\n",
      "Валідаційних зразків: 2807\n",
      "Тестових зразків: 3000\n"
     ]
    }
   ],
   "source": [
    "# Розділення на тренувальний та валідаційний набори\n",
    "train_size = int(0.8 * len(dataset))\n",
    "val_size = len(dataset) - train_size\n",
    "\n",
    "train_dataset, val_dataset = random_split(dataset, [train_size, val_size])\n",
    "\n",
    "# Створення DataLoader'ів\n",
    "batch_size = 32\n",
    "\n",
    "train_loader = DataLoader(train_dataset, batch_size=batch_size, shuffle=True)\n",
    "val_loader = DataLoader(val_dataset, batch_size=batch_size, shuffle=False)\n",
    "\n",
    "# Завантаження тестових даних\n",
    "test_dataset = torchvision.datasets.ImageFolder(root=test_path, transform=transform)\n",
    "test_loader = DataLoader(test_dataset, batch_size=batch_size, shuffle=False)\n",
    "\n",
    "print(f\"Тренувальних зразків: {len(train_dataset)}\")\n",
    "print(f\"Валідаційних зразків: {len(val_dataset)}\")\n",
    "print(f\"Тестових зразків: {len(test_dataset)}\")"
   ]
  },
  {
   "cell_type": "code",
   "execution_count": 7,
   "id": "6ee638b2-064c-44c8-90f6-d9863bdfde73",
   "metadata": {},
   "outputs": [
    {
     "name": "stdout",
     "output_type": "stream",
     "text": [
      "Використовуємо пристрій: cuda\n"
     ]
    }
   ],
   "source": [
    "device = torch.device(\"cuda\" if torch.cuda.is_available() else \"cpu\")\n",
    "print(f\"Використовуємо пристрій: {device}\")"
   ]
  },
  {
   "cell_type": "code",
   "execution_count": 8,
   "id": "effd63b4-e63f-4b55-8b09-3e0c4b8067ec",
   "metadata": {},
   "outputs": [
    {
     "name": "stdout",
     "output_type": "stream",
     "text": [
      "Sat Feb  8 17:28:49 2025       \n",
      "+-----------------------------------------------------------------------------------------+\n",
      "| NVIDIA-SMI 566.36                 Driver Version: 566.36         CUDA Version: 12.7     |\n",
      "|-----------------------------------------+------------------------+----------------------+\n",
      "| GPU  Name                  Driver-Model | Bus-Id          Disp.A | Volatile Uncorr. ECC |\n",
      "| Fan  Temp   Perf          Pwr:Usage/Cap |           Memory-Usage | GPU-Util  Compute M. |\n",
      "|                                         |                        |               MIG M. |\n",
      "|=========================================+========================+======================|\n",
      "|   0  NVIDIA GeForce RTX 3080 Ti   WDDM  |   00000000:01:00.0  On |                  N/A |\n",
      "|  0%   40C    P0             96W /  350W |    2606MiB /  12288MiB |     18%      Default |\n",
      "|                                         |                        |                  N/A |\n",
      "+-----------------------------------------+------------------------+----------------------+\n",
      "                                                                                         \n",
      "+-----------------------------------------------------------------------------------------+\n",
      "| Processes:                                                                              |\n",
      "|  GPU   GI   CI        PID   Type   Process name                              GPU Memory |\n",
      "|        ID   ID                                                               Usage      |\n",
      "|=========================================================================================|\n",
      "|    0   N/A  N/A      3084    C+G   ...n\\NVIDIA app\\CEF\\NVIDIA Overlay.exe      N/A      |\n",
      "|    0   N/A  N/A      3888    C+G   ...iles\\OBS Studio\\bin\\64bit\\obs64.exe      N/A      |\n",
      "|    0   N/A  N/A      6220    C+G   C:\\Windows\\explorer.exe                     N/A      |\n",
      "|    0   N/A  N/A      7980    C+G   ...oogle\\Chrome\\Application\\chrome.exe      N/A      |\n",
      "|    0   N/A  N/A      9628    C+G   ...n\\NVIDIA app\\CEF\\NVIDIA Overlay.exe      N/A      |\n",
      "|    0   N/A  N/A      9700    C+G   ...nt.CBS_cw5n1h2txyewy\\SearchHost.exe      N/A      |\n",
      "|    0   N/A  N/A      9780    C+G   ...2txyewy\\StartMenuExperienceHost.exe      N/A      |\n",
      "|    0   N/A  N/A     10092    C+G   ...oogle\\Chrome\\Application\\chrome.exe      N/A      |\n",
      "|    0   N/A  N/A     10876    C+G   ...5n1h2txyewy\\ShellExperienceHost.exe      N/A      |\n",
      "|    0   N/A  N/A     12160    C+G   ...ekyb3d8bbwe\\PhoneExperienceHost.exe      N/A      |\n",
      "|    0   N/A  N/A     12176    C+G   ...8162_x64__8wekyb3d8bbwe\\msteams.exe      N/A      |\n",
      "|    0   N/A  N/A     13056    C+G   ...crosoft\\Edge\\Application\\msedge.exe      N/A      |\n",
      "|    0   N/A  N/A     14092    C+G   ...cal\\Microsoft\\OneDrive\\OneDrive.exe      N/A      |\n",
      "|    0   N/A  N/A     14548    C+G   ...anton\\AppData\\Local\\Viber\\Viber.exe      N/A      |\n",
      "|    0   N/A  N/A     14960    C+G   ...al\\Discord\\app-1.0.9181\\Discord.exe      N/A      |\n",
      "|    0   N/A  N/A     15384    C+G   ...siveControlPanel\\SystemSettings.exe      N/A      |\n",
      "|    0   N/A  N/A     16800    C+G   ...n\\132.0.2957.140\\msedgewebview2.exe      N/A      |\n",
      "|    0   N/A  N/A     17632    C+G   ...aming\\Telegram Desktop\\Telegram.exe      N/A      |\n",
      "|    0   N/A  N/A     18308    C+G   ...n\\AppData\\Roaming\\Zoom\\bin\\Zoom.exe      N/A      |\n",
      "|    0   N/A  N/A     21596    C+G   ...n\\132.0.2957.140\\msedgewebview2.exe      N/A      |\n",
      "|    0   N/A  N/A     24564    C+G   ...-plugins\\64bit\\obs-browser-page.exe      N/A      |\n",
      "|    0   N/A  N/A     25656    C+G   ...iles\\OBS Studio\\bin\\64bit\\obs64.exe      N/A      |\n",
      "+-----------------------------------------------------------------------------------------+\n"
     ]
    }
   ],
   "source": [
    "!nvidia-smi\n",
    "\n"
   ]
  },
  {
   "cell_type": "code",
   "execution_count": 9,
   "id": "5797d518-f29c-43a5-aa8c-d1a5730fa0a5",
   "metadata": {},
   "outputs": [
    {
     "name": "stdout",
     "output_type": "stream",
     "text": [
      "Версія PyTorch: 2.6.0+cu118\n",
      "CUDA доступна: True\n",
      "Кількість GPU: 1\n",
      "Назва GPU: NVIDIA GeForce RTX 3080 Ti\n",
      "Версія CUDA в PyTorch: 11.8\n",
      "Версія cuDNN: 90100\n"
     ]
    }
   ],
   "source": [
    "import torch\n",
    "print(\"Версія PyTorch:\", torch.__version__)\n",
    "print(\"CUDA доступна:\", torch.cuda.is_available())\n",
    "print(\"Кількість GPU:\", torch.cuda.device_count())\n",
    "print(\"Назва GPU:\", torch.cuda.get_device_name(0) if torch.cuda.is_available() else \"CUDA недоступна\")\n",
    "print(\"Версія CUDA в PyTorch:\", torch.version.cuda)\n",
    "print(\"Версія cuDNN:\", torch.backends.cudnn.version())\n"
   ]
  },
  {
   "cell_type": "code",
   "execution_count": 10,
   "id": "c8f68eab-4c8d-4a6f-ba44-5c28b04ee6d4",
   "metadata": {},
   "outputs": [
    {
     "name": "stdout",
     "output_type": "stream",
     "text": [
      "Використовуємо пристрій: cuda\n",
      "Використовуємо пристрій: cuda\n"
     ]
    }
   ],
   "source": [
    "device = torch.device(\"cuda\" if torch.cuda.is_available() else \"cpu\")\n",
    "print(f\"Використовуємо пристрій: {device}\")\n",
    "device = torch.device(\"cuda\" if torch.cuda.is_available() else \"cpu\")\n",
    "print(f\"Використовуємо пристрій: {device}\")\n"
   ]
  },
  {
   "cell_type": "code",
   "execution_count": 11,
   "id": "d8af7df9-fd3e-4fd5-87a3-2a277848d300",
   "metadata": {},
   "outputs": [
    {
     "name": "stdout",
     "output_type": "stream",
     "text": [
      "Розмірність батчу: torch.Size([32, 3, 150, 150]), Пристрій: cuda:0\n"
     ]
    }
   ],
   "source": [
    "# Виведення прикладу батчу на GPU\n",
    "dataiter = iter(train_loader)\n",
    "images, labels = next(dataiter)\n",
    "\n",
    "# Переміщуємо тензори на GPU\n",
    "images, labels = images.to(device), labels.to(device)\n",
    "print(f\"Розмірність батчу: {images.shape}, Пристрій: {images.device}\")"
   ]
  },
  {
   "cell_type": "markdown",
   "id": "08b3fd94-4acb-4ed8-9eac-649c36be2d23",
   "metadata": {},
   "source": [
    "## 2. Попередня обробка зображень:"
   ]
  },
  {
   "cell_type": "code",
   "execution_count": 12,
   "id": "5ec4ceb3-19bd-4cea-b33c-7afb0667cc81",
   "metadata": {},
   "outputs": [],
   "source": [
    "import torchvision.transforms as transforms\n",
    "\n",
    "# Оновлені трансформації для аугментації та нормалізації\n",
    "transform = transforms.Compose([\n",
    "    transforms.Resize((150, 150)),  # Зміна розміру до 150x150\n",
    "    transforms.RandomHorizontalFlip(p=0.5),  # Випадкове віддзеркалення\n",
    "    transforms.RandomRotation(10),  # Випадковий поворот на ±10 градусів\n",
    "    transforms.ColorJitter(brightness=0.2, contrast=0.2, saturation=0.2, hue=0.1),  # Зміна яскравості та контрасту\n",
    "    transforms.ToTensor(),  # Перетворення у тензор\n",
    "    transforms.Normalize(mean=[0.5, 0.5, 0.5], std=[0.5, 0.5, 0.5])  # Нормалізація\n",
    "])\n",
    "\n",
    "# Для тестових зображень не використовуємо аугментацію\n",
    "test_transform = transforms.Compose([\n",
    "    transforms.Resize((150, 150)),  \n",
    "    transforms.ToTensor(),  \n",
    "    transforms.Normalize(mean=[0.5, 0.5, 0.5], std=[0.5, 0.5, 0.5])  \n",
    "])\n"
   ]
  },
  {
   "cell_type": "markdown",
   "id": "498e76ea-20e3-44b7-88c0-8124d78f3094",
   "metadata": {},
   "source": [
    "#### ✅ Зміна розміру – усі зображення приводяться до одного формату 150x150\n",
    "#### ✅ Аугментація – випадкові обертання, віддзеркалення, зміна яскравості\n",
    "#### ✅ Нормалізація – щоб значення входу були у стабільному діапазоні"
   ]
  },
  {
   "cell_type": "markdown",
   "id": "1db31297-8f13-4187-961e-dbb9d58c2c43",
   "metadata": {},
   "source": [
    "### 3. Створення моделі"
   ]
  },
  {
   "cell_type": "code",
   "execution_count": 13,
   "id": "e4c5eb57-9f74-4f4d-bd8a-51f2320eb1fd",
   "metadata": {},
   "outputs": [
    {
     "name": "stdout",
     "output_type": "stream",
     "text": [
      "CNN(\n",
      "  (conv1): Conv2d(3, 32, kernel_size=(3, 3), stride=(1, 1), padding=(1, 1))\n",
      "  (pool): MaxPool2d(kernel_size=2, stride=2, padding=0, dilation=1, ceil_mode=False)\n",
      "  (conv2): Conv2d(32, 64, kernel_size=(3, 3), stride=(1, 1), padding=(1, 1))\n",
      "  (conv3): Conv2d(64, 128, kernel_size=(3, 3), stride=(1, 1), padding=(1, 1))\n",
      "  (fc1): Linear(in_features=41472, out_features=512, bias=True)\n",
      "  (fc2): Linear(in_features=512, out_features=6, bias=True)\n",
      ")\n"
     ]
    }
   ],
   "source": [
    "import torch.nn as nn\n",
    "import torch.nn.functional as F\n",
    "\n",
    "class CNN(nn.Module):\n",
    "    def __init__(self, num_classes=6):  # У нас 6 класів\n",
    "        super(CNN, self).__init__()\n",
    "\n",
    "        # Перший згортковий шар + активація + пулінг\n",
    "        self.conv1 = nn.Conv2d(in_channels=3, out_channels=32, kernel_size=3, padding=1)\n",
    "        self.pool = nn.MaxPool2d(kernel_size=2, stride=2)\n",
    "        \n",
    "        # Другий згортковий шар + активація + пулінг\n",
    "        self.conv2 = nn.Conv2d(in_channels=32, out_channels=64, kernel_size=3, padding=1)\n",
    "\n",
    "        # Третій згортковий шар + активація + пулінг\n",
    "        self.conv3 = nn.Conv2d(in_channels=64, out_channels=128, kernel_size=3, padding=1)\n",
    "\n",
    "        # Повнозв’язні (FC) шари\n",
    "        self.fc1 = nn.Linear(128 * 18 * 18, 512)  # 128 карт ознак розміром 18x18\n",
    "        self.fc2 = nn.Linear(512, num_classes)\n",
    "\n",
    "    def forward(self, x):\n",
    "        x = self.pool(F.relu(self.conv1(x)))  # 1-й блок\n",
    "        x = self.pool(F.relu(self.conv2(x)))  # 2-й блок\n",
    "        x = self.pool(F.relu(self.conv3(x)))  # 3-й блок\n",
    "        \n",
    "        x = torch.flatten(x, start_dim=1)  # Перетворення у вектор\n",
    "        x = F.relu(self.fc1(x))  # Повнозв'язний шар\n",
    "        x = self.fc2(x)  # Вихідний шар\n",
    "        return x\n",
    "\n",
    "# Ініціалізація моделі\n",
    "device = torch.device(\"cuda\" if torch.cuda.is_available() else \"cpu\")\n",
    "model = CNN(num_classes=6).to(device)\n",
    "\n",
    "# Вивід архітектури моделі\n",
    "print(model)\n"
   ]
  },
  {
   "cell_type": "markdown",
   "id": "09d265e0-ecfa-413b-9209-9515d4571acd",
   "metadata": {},
   "source": [
    "## 4. Варіант B: Transfer Learning"
   ]
  },
  {
   "cell_type": "code",
   "execution_count": 14,
   "id": "53aac1e0-553f-40ba-9864-497d948b82ea",
   "metadata": {},
   "outputs": [
    {
     "name": "stdout",
     "output_type": "stream",
     "text": [
      "ResNet(\n",
      "  (conv1): Conv2d(3, 64, kernel_size=(7, 7), stride=(2, 2), padding=(3, 3), bias=False)\n",
      "  (bn1): BatchNorm2d(64, eps=1e-05, momentum=0.1, affine=True, track_running_stats=True)\n",
      "  (relu): ReLU(inplace=True)\n",
      "  (maxpool): MaxPool2d(kernel_size=3, stride=2, padding=1, dilation=1, ceil_mode=False)\n",
      "  (layer1): Sequential(\n",
      "    (0): BasicBlock(\n",
      "      (conv1): Conv2d(64, 64, kernel_size=(3, 3), stride=(1, 1), padding=(1, 1), bias=False)\n",
      "      (bn1): BatchNorm2d(64, eps=1e-05, momentum=0.1, affine=True, track_running_stats=True)\n",
      "      (relu): ReLU(inplace=True)\n",
      "      (conv2): Conv2d(64, 64, kernel_size=(3, 3), stride=(1, 1), padding=(1, 1), bias=False)\n",
      "      (bn2): BatchNorm2d(64, eps=1e-05, momentum=0.1, affine=True, track_running_stats=True)\n",
      "    )\n",
      "    (1): BasicBlock(\n",
      "      (conv1): Conv2d(64, 64, kernel_size=(3, 3), stride=(1, 1), padding=(1, 1), bias=False)\n",
      "      (bn1): BatchNorm2d(64, eps=1e-05, momentum=0.1, affine=True, track_running_stats=True)\n",
      "      (relu): ReLU(inplace=True)\n",
      "      (conv2): Conv2d(64, 64, kernel_size=(3, 3), stride=(1, 1), padding=(1, 1), bias=False)\n",
      "      (bn2): BatchNorm2d(64, eps=1e-05, momentum=0.1, affine=True, track_running_stats=True)\n",
      "    )\n",
      "  )\n",
      "  (layer2): Sequential(\n",
      "    (0): BasicBlock(\n",
      "      (conv1): Conv2d(64, 128, kernel_size=(3, 3), stride=(2, 2), padding=(1, 1), bias=False)\n",
      "      (bn1): BatchNorm2d(128, eps=1e-05, momentum=0.1, affine=True, track_running_stats=True)\n",
      "      (relu): ReLU(inplace=True)\n",
      "      (conv2): Conv2d(128, 128, kernel_size=(3, 3), stride=(1, 1), padding=(1, 1), bias=False)\n",
      "      (bn2): BatchNorm2d(128, eps=1e-05, momentum=0.1, affine=True, track_running_stats=True)\n",
      "      (downsample): Sequential(\n",
      "        (0): Conv2d(64, 128, kernel_size=(1, 1), stride=(2, 2), bias=False)\n",
      "        (1): BatchNorm2d(128, eps=1e-05, momentum=0.1, affine=True, track_running_stats=True)\n",
      "      )\n",
      "    )\n",
      "    (1): BasicBlock(\n",
      "      (conv1): Conv2d(128, 128, kernel_size=(3, 3), stride=(1, 1), padding=(1, 1), bias=False)\n",
      "      (bn1): BatchNorm2d(128, eps=1e-05, momentum=0.1, affine=True, track_running_stats=True)\n",
      "      (relu): ReLU(inplace=True)\n",
      "      (conv2): Conv2d(128, 128, kernel_size=(3, 3), stride=(1, 1), padding=(1, 1), bias=False)\n",
      "      (bn2): BatchNorm2d(128, eps=1e-05, momentum=0.1, affine=True, track_running_stats=True)\n",
      "    )\n",
      "  )\n",
      "  (layer3): Sequential(\n",
      "    (0): BasicBlock(\n",
      "      (conv1): Conv2d(128, 256, kernel_size=(3, 3), stride=(2, 2), padding=(1, 1), bias=False)\n",
      "      (bn1): BatchNorm2d(256, eps=1e-05, momentum=0.1, affine=True, track_running_stats=True)\n",
      "      (relu): ReLU(inplace=True)\n",
      "      (conv2): Conv2d(256, 256, kernel_size=(3, 3), stride=(1, 1), padding=(1, 1), bias=False)\n",
      "      (bn2): BatchNorm2d(256, eps=1e-05, momentum=0.1, affine=True, track_running_stats=True)\n",
      "      (downsample): Sequential(\n",
      "        (0): Conv2d(128, 256, kernel_size=(1, 1), stride=(2, 2), bias=False)\n",
      "        (1): BatchNorm2d(256, eps=1e-05, momentum=0.1, affine=True, track_running_stats=True)\n",
      "      )\n",
      "    )\n",
      "    (1): BasicBlock(\n",
      "      (conv1): Conv2d(256, 256, kernel_size=(3, 3), stride=(1, 1), padding=(1, 1), bias=False)\n",
      "      (bn1): BatchNorm2d(256, eps=1e-05, momentum=0.1, affine=True, track_running_stats=True)\n",
      "      (relu): ReLU(inplace=True)\n",
      "      (conv2): Conv2d(256, 256, kernel_size=(3, 3), stride=(1, 1), padding=(1, 1), bias=False)\n",
      "      (bn2): BatchNorm2d(256, eps=1e-05, momentum=0.1, affine=True, track_running_stats=True)\n",
      "    )\n",
      "  )\n",
      "  (layer4): Sequential(\n",
      "    (0): BasicBlock(\n",
      "      (conv1): Conv2d(256, 512, kernel_size=(3, 3), stride=(2, 2), padding=(1, 1), bias=False)\n",
      "      (bn1): BatchNorm2d(512, eps=1e-05, momentum=0.1, affine=True, track_running_stats=True)\n",
      "      (relu): ReLU(inplace=True)\n",
      "      (conv2): Conv2d(512, 512, kernel_size=(3, 3), stride=(1, 1), padding=(1, 1), bias=False)\n",
      "      (bn2): BatchNorm2d(512, eps=1e-05, momentum=0.1, affine=True, track_running_stats=True)\n",
      "      (downsample): Sequential(\n",
      "        (0): Conv2d(256, 512, kernel_size=(1, 1), stride=(2, 2), bias=False)\n",
      "        (1): BatchNorm2d(512, eps=1e-05, momentum=0.1, affine=True, track_running_stats=True)\n",
      "      )\n",
      "    )\n",
      "    (1): BasicBlock(\n",
      "      (conv1): Conv2d(512, 512, kernel_size=(3, 3), stride=(1, 1), padding=(1, 1), bias=False)\n",
      "      (bn1): BatchNorm2d(512, eps=1e-05, momentum=0.1, affine=True, track_running_stats=True)\n",
      "      (relu): ReLU(inplace=True)\n",
      "      (conv2): Conv2d(512, 512, kernel_size=(3, 3), stride=(1, 1), padding=(1, 1), bias=False)\n",
      "      (bn2): BatchNorm2d(512, eps=1e-05, momentum=0.1, affine=True, track_running_stats=True)\n",
      "    )\n",
      "  )\n",
      "  (avgpool): AdaptiveAvgPool2d(output_size=(1, 1))\n",
      "  (fc): Linear(in_features=512, out_features=6, bias=True)\n",
      ")\n"
     ]
    }
   ],
   "source": [
    "import torchvision.models as models\n",
    "\n",
    "# Завантаження попередньо навченої ResNet18\n",
    "model = models.resnet18(weights=models.ResNet18_Weights.DEFAULT)\n",
    "\n",
    "# Заморожуємо всі шари, крім останнього\n",
    "for param in model.parameters():\n",
    "    param.requires_grad = False\n",
    "\n",
    "# Отримуємо розмір вхідних ознак останнього шару\n",
    "num_ftrs = model.fc.in_features\n",
    "\n",
    "# Замінюємо останній шар для 6 класів\n",
    "model.fc = nn.Linear(num_ftrs, 6)\n",
    "\n",
    "# Переносимо модель на GPU\n",
    "model = model.to(device)\n",
    "\n",
    "# Вивід архітектури моделі\n",
    "print(model)\n"
   ]
  },
  {
   "cell_type": "markdown",
   "id": "0d8cd143-ef2e-48a9-b6b5-92c09df20c76",
   "metadata": {},
   "source": [
    "## 5. Визначення функції втрат та оптимізатора:"
   ]
  },
  {
   "cell_type": "markdown",
   "id": "e7c7f992-99fe-4e77-84d0-dce2eb15faec",
   "metadata": {},
   "source": [
    "### Функція втрат: CrossEntropyLoss()\n",
    "\n",
    "- CrossEntropyLoss() є стандартною функцією втрат для багатокласової класифікації.\n",
    "- Вона поєднує LogSoftmax та NLLLoss, тому зручно працює з torch.nn.Linear без додаткових операцій.\n",
    "- Вимірює розбіжність між розподілом ймовірностей (вихід нейромережі) та реальною міткою класу.\n",
    "\n",
    "### Оптимізатор: Adam\n",
    "\n",
    "- Adam (Adaptive Moment Estimation) поєднує SGD та адаптивне оновлення швидкості навчання.\n",
    "- Добре працює для глибоких нейромереж та Transfer Learning.\n",
    "- Оскільки ми оновлюємо лише останній шар, використовуємо менший lr = 1e-4 (щоб не розвалити попередньо навчені ознаки ResNet)."
   ]
  },
  {
   "cell_type": "code",
   "execution_count": 15,
   "id": "8ddc98f7-d72d-407f-9ea6-58dcc35fca1e",
   "metadata": {},
   "outputs": [
    {
     "name": "stdout",
     "output_type": "stream",
     "text": [
      "Функція втрат та оптимізатор готові!\n"
     ]
    }
   ],
   "source": [
    "import torch.optim as optim\n",
    "\n",
    "# Функція втрат\n",
    "criterion = nn.CrossEntropyLoss()\n",
    "\n",
    "# Оптимізатор (оновлюємо тільки fc-шар, інші заморожені)\n",
    "optimizer = optim.Adam(model.fc.parameters(), lr=1e-4)\n",
    "\n",
    "print(\"Функція втрат та оптимізатор готові!\")\n"
   ]
  },
  {
   "cell_type": "markdown",
   "id": "4dd7832b-4de6-46d7-9109-f18e06606b38",
   "metadata": {},
   "source": [
    "### 6. Навчання моделі:"
   ]
  },
  {
   "cell_type": "code",
   "execution_count": 16,
   "id": "74c1eda0-6213-45f0-ba4c-2e24be43c837",
   "metadata": {},
   "outputs": [
    {
     "name": "stdout",
     "output_type": "stream",
     "text": [
      "Епоха [1/10] | Час: 31.72с\n",
      "   Тренувальна втрата: 1.2998, Точність: 54.42%\n",
      "   Валідаційна втрата: 0.8632, Точність: 77.63%\n",
      "   🔥 Збережено найкращу модель!\n",
      "Епоха [2/10] | Час: 26.92с\n",
      "   Тренувальна втрата: 0.7519, Точність: 79.53%\n",
      "   Валідаційна втрата: 0.5892, Точність: 84.18%\n",
      "   🔥 Збережено найкращу модель!\n",
      "Епоха [3/10] | Час: 28.48с\n",
      "   Тренувальна втрата: 0.5831, Точність: 83.35%\n",
      "   Валідаційна втрата: 0.4859, Точність: 85.89%\n",
      "   🔥 Збережено найкращу модель!\n",
      "Епоха [4/10] | Час: 28.01с\n",
      "   Тренувальна втрата: 0.4989, Точність: 85.16%\n",
      "   Валідаційна втрата: 0.4284, Точність: 86.85%\n",
      "   🔥 Збережено найкращу модель!\n",
      "Епоха [5/10] | Час: 27.01с\n",
      "   Тренувальна втрата: 0.4564, Точність: 85.92%\n",
      "   Валідаційна втрата: 0.3991, Точність: 87.53%\n",
      "   🔥 Збережено найкращу модель!\n",
      "Епоха [6/10] | Час: 28.35с\n",
      "   Тренувальна втрата: 0.4270, Точність: 86.04%\n",
      "   Валідаційна втрата: 0.3760, Точність: 88.03%\n",
      "   🔥 Збережено найкращу модель!\n",
      "Епоха [7/10] | Час: 29.71с\n",
      "   Тренувальна втрата: 0.4062, Точність: 86.92%\n",
      "   Валідаційна втрата: 0.3597, Точність: 88.21%\n",
      "   🔥 Збережено найкращу модель!\n",
      "Епоха [8/10] | Час: 33.32с\n",
      "   Тренувальна втрата: 0.3897, Точність: 87.17%\n",
      "   Валідаційна втрата: 0.3464, Точність: 88.53%\n",
      "   🔥 Збережено найкращу модель!\n",
      "Епоха [9/10] | Час: 31.61с\n",
      "   Тренувальна втрата: 0.3728, Точність: 87.71%\n",
      "   Валідаційна втрата: 0.3442, Точність: 88.10%\n",
      "   🔥 Збережено найкращу модель!\n",
      "Епоха [10/10] | Час: 30.82с\n",
      "   Тренувальна втрата: 0.3672, Точність: 87.66%\n",
      "   Валідаційна втрата: 0.3308, Точність: 88.81%\n",
      "   🔥 Збережено найкращу модель!\n",
      "✅ Навчання завершено! Модель збережено у 'best_model.pth'\n"
     ]
    }
   ],
   "source": [
    "import torch\n",
    "import time\n",
    "\n",
    "# Гіперпараметри\n",
    "num_epochs = 10  # Кількість епох\n",
    "best_val_loss = float(\"inf\")  # Початкове значення для відстеження найкращої моделі\n",
    "\n",
    "# Створюємо списки для втрат і точності\n",
    "train_losses = []\n",
    "val_losses = []\n",
    "train_accuracies = []\n",
    "val_accuracies = []\n",
    "\n",
    "# Основний цикл навчання\n",
    "for epoch in range(num_epochs):\n",
    "    model.train()  # Встановлюємо модель у режим навчання\n",
    "    running_loss = 0.0\n",
    "    correct_train = 0\n",
    "    total_train = 0\n",
    "\n",
    "    start_time = time.time()\n",
    "\n",
    "    for images, labels in train_loader:\n",
    "        images, labels = images.to(device), labels.to(device)\n",
    "\n",
    "        optimizer.zero_grad()  # Очищуємо градієнти\n",
    "        outputs = model(images)  # Прогноз моделі\n",
    "        loss = criterion(outputs, labels)  # Обчислюємо втрати\n",
    "\n",
    "        loss.backward()  # Зворотне поширення\n",
    "        optimizer.step()  # Оновлення ваг\n",
    "\n",
    "        running_loss += loss.item()\n",
    "        _, predicted = torch.max(outputs, 1)\n",
    "        correct_train += (predicted == labels).sum().item()\n",
    "        total_train += labels.size(0)\n",
    "\n",
    "    # Оцінка на валідаційному наборі\n",
    "    model.eval()  # Переводимо модель у режим оцінки\n",
    "    val_loss = 0.0\n",
    "    correct_val = 0\n",
    "    total_val = 0\n",
    "\n",
    "    with torch.no_grad():\n",
    "        for images, labels in val_loader:\n",
    "            images, labels = images.to(device), labels.to(device)\n",
    "\n",
    "            outputs = model(images)\n",
    "            loss = criterion(outputs, labels)\n",
    "            val_loss += loss.item()\n",
    "\n",
    "            _, predicted = torch.max(outputs, 1)\n",
    "            correct_val += (predicted == labels).sum().item()\n",
    "            total_val += labels.size(0)\n",
    "\n",
    "    # Обчислення середніх втрат і точності\n",
    "    avg_train_loss = running_loss / len(train_loader)\n",
    "    avg_val_loss = val_loss / len(val_loader)\n",
    "    train_accuracy = 100 * correct_train / total_train\n",
    "    val_accuracy = 100 * correct_val / total_val\n",
    "\n",
    "    # 🔹 Додаємо значення до списків\n",
    "    train_losses.append(avg_train_loss)\n",
    "    val_losses.append(avg_val_loss)\n",
    "    train_accuracies.append(train_accuracy)\n",
    "    val_accuracies.append(val_accuracy)\n",
    "\n",
    "    end_time = time.time()\n",
    "    epoch_time = end_time - start_time\n",
    "\n",
    "    print(f\"Епоха [{epoch+1}/{num_epochs}] | Час: {epoch_time:.2f}с\")\n",
    "    print(f\"   Тренувальна втрата: {avg_train_loss:.4f}, Точність: {train_accuracy:.2f}%\")\n",
    "    print(f\"   Валідаційна втрата: {avg_val_loss:.4f}, Точність: {val_accuracy:.2f}%\")\n",
    "\n",
    "    # Збереження найкращої моделі\n",
    "    if avg_val_loss < best_val_loss:\n",
    "        best_val_loss = avg_val_loss\n",
    "        torch.save(model.state_dict(), \"best_model.pth\")\n",
    "        print(\"   🔥 Збережено найкращу модель!\")\n",
    "\n",
    "print(\"✅ Навчання завершено! Модель збережено у 'best_model.pth'\")\n"
   ]
  },
  {
   "cell_type": "markdown",
   "id": "88b32ba9-bc0f-4c44-8aa3-54325f938fac",
   "metadata": {},
   "source": [
    "#### Процес навчання\n",
    "- 🔹 За 10 епох модель значно покращила свої характеристики.\n",
    "- 🔹 Початкова точність на тренувальному наборі була 54.42%, а фінальна 87.66%.\n",
    "- 🔹 Початкова точність на валідаційному наборі була 77.63%, а фінальна 88.81%.\n",
    "- 🔹 Втрати поступово зменшувались, що свідчить про стабільну оптимізацію.\n",
    "\n",
    "#### Поліпшення валідаційної точності\n",
    "- 🔹 Модель уникнула перенавчання – тренувальна та валідаційна точність майже збігаються.\n",
    "- 🔹 Фінальна валідаційна втрата – 0.3308, що вказує на гарну генералізацію.\n",
    "\n",
    "#### Продуктивність моделі\n",
    "- 🔹 Час навчання кожної епохи скорочувався (~31-33 сек на останніх епохах).\n",
    "- 🔹 Це свідчить про ефективність оновлення ваг та стабільність градієнтного спуску."
   ]
  },
  {
   "cell_type": "markdown",
   "id": "c1b7fbee-139f-4741-ae5f-3ec0ebb97ffb",
   "metadata": {},
   "source": [
    "## 7. Оцінка моделі:"
   ]
  },
  {
   "cell_type": "code",
   "execution_count": 17,
   "id": "da455bb9-761b-4548-81b4-0f9cad4c04c7",
   "metadata": {},
   "outputs": [
    {
     "name": "stdout",
     "output_type": "stream",
     "text": [
      "🔍 Classification Report:\n",
      "              precision    recall  f1-score   support\n",
      "\n",
      "   buildings       0.92      0.86      0.89       437\n",
      "      forest       0.97      0.98      0.98       474\n",
      "     glacier       0.84      0.81      0.82       553\n",
      "    mountain       0.83      0.81      0.82       525\n",
      "         sea       0.89      0.95      0.92       510\n",
      "      street       0.88      0.92      0.90       501\n",
      "\n",
      "    accuracy                           0.89      3000\n",
      "   macro avg       0.89      0.89      0.89      3000\n",
      "weighted avg       0.89      0.89      0.89      3000\n",
      "\n",
      "🔍 Confusion Matrix:\n",
      "[[378   1   2   1   5  50]\n",
      " [  0 463   3   6   0   2]\n",
      " [  1   4 448  67  29   4]\n",
      " [  0   2  69 427  23   4]\n",
      " [  2   2  12  11 483   0]\n",
      " [ 31   3   0   1   5 461]]\n"
     ]
    }
   ],
   "source": [
    "from sklearn.metrics import classification_report, confusion_matrix\n",
    "import numpy as np\n",
    "\n",
    "# Списки для збереження реальних та передбачених міток\n",
    "y_true = []\n",
    "y_pred = []\n",
    "\n",
    "# Оцінка моделі на тестовому наборі\n",
    "with torch.no_grad():\n",
    "    for images, labels in test_loader:\n",
    "        images, labels = images.to(device), labels.to(device)\n",
    "\n",
    "        outputs = model(images)\n",
    "        _, predicted = torch.max(outputs, 1)  # Отримуємо клас із найбільшою ймовірністю\n",
    "\n",
    "        y_true.extend(labels.cpu().numpy())\n",
    "        y_pred.extend(predicted.cpu().numpy())\n",
    "\n",
    "# Обчислення метрик\n",
    "print(\"🔍 Classification Report:\")\n",
    "print(classification_report(y_true, y_pred, target_names=dataset.classes))\n",
    "\n",
    "print(\"🔍 Confusion Matrix:\")\n",
    "print(confusion_matrix(y_true, y_pred))\n"
   ]
  },
  {
   "cell_type": "code",
   "execution_count": 18,
   "id": "0d4f512c-794e-4a0a-9d8d-2991b1051cba",
   "metadata": {},
   "outputs": [
    {
     "name": "stdout",
     "output_type": "stream",
     "text": [
      "Класи в датасеті: ['buildings', 'forest', 'glacier', 'mountain', 'sea', 'street']\n"
     ]
    }
   ],
   "source": [
    "print(f\"Класи в датасеті: {dataset.classes}\")\n",
    "\n"
   ]
  },
  {
   "cell_type": "markdown",
   "id": "6333bb74-6044-4569-9cff-2abc9d2cd24b",
   "metadata": {},
   "source": [
    "#### ✅ Загальна точність: 89% – це відмінний результат для класифікації природних сцен!\n",
    "#### ✅ Всі класи мають високу precision, recall та F1-score – модель добре працює для кожної категорії.\n"
   ]
  },
  {
   "cell_type": "markdown",
   "id": "bf69a131-9b97-44c1-85d5-56e7053dc186",
   "metadata": {},
   "source": [
    "### 📊 Аналіз по класах:\n",
    "\n",
    "##### 🌲 forest (97% precision, 98% recall) – найкраще класифікується.\n",
    "##### 🏙️ buildings (91% precision, 88% recall) – трохи менше recall, можливо, плутається з street.\n",
    "##### ❄️ glacier (84% precision, 81% recall) та 🏔️ mountain (83% precision, 80% recall) – найбільше помилок, ймовірно, через схожість сцен.\n"
   ]
  },
  {
   "cell_type": "markdown",
   "id": "01212284-7868-4d7c-a31d-0ddce4eef772",
   "metadata": {},
   "source": [
    "## 8. Аналіз результатів"
   ]
  },
  {
   "cell_type": "markdown",
   "id": "05769001-e0b5-42d8-9dff-5b2d76faf1b1",
   "metadata": {},
   "source": [
    "#### Візуалізація Confusion Matrix"
   ]
  },
  {
   "cell_type": "code",
   "execution_count": 19,
   "id": "5eb2b516-0425-4df8-a448-2da49be600bc",
   "metadata": {},
   "outputs": [
    {
     "data": {
      "image/png": "[encoded data removed]",
      "text/plain": [
       "<Figure size 800x600 with 2 Axes>"
      ]
     },
     "metadata": {},
     "output_type": "display_data"
    }
   ],
   "source": [
    "import seaborn as sns\n",
    "import matplotlib.pyplot as plt\n",
    "from sklearn.metrics import confusion_matrix\n",
    "\n",
    "# Побудова матриці помилок\n",
    "cm = confusion_matrix(y_true, y_pred)\n",
    "\n",
    "plt.figure(figsize=(8,6))\n",
    "sns.heatmap(cm, annot=True, fmt='d', cmap='Blues', xticklabels=test_dataset.classes, yticklabels=test_dataset.classes)\n",
    "plt.xlabel(\"Передбачені класи\")\n",
    "plt.ylabel(\"Реальні класи\")\n",
    "plt.title(\"Матриця помилок\")\n",
    "plt.show()\n"
   ]
  },
  {
   "cell_type": "markdown",
   "id": "67ccb24e-a949-4a05-95cf-082cf54e4620",
   "metadata": {},
   "source": [
    "### Loss & Accuracy"
   ]
  },
  {
   "cell_type": "code",
   "execution_count": 20,
   "id": "c5b54d63-90e5-47b2-9fb7-6cc48c9d440e",
   "metadata": {},
   "outputs": [
    {
     "data": {
      "image/png": "[encoded data removed]",
      "text/plain": [
       "<Figure size 1200x500 with 2 Axes>"
      ]
     },
     "metadata": {},
     "output_type": "display_data"
    }
   ],
   "source": [
    "import matplotlib.pyplot as plt\n",
    "\n",
    "plt.figure(figsize=(12, 5))\n",
    "\n",
    "# Крива втрат\n",
    "plt.subplot(1, 2, 1)\n",
    "plt.plot(train_losses, label=\"Тренувальні втрати\")\n",
    "plt.plot(val_losses, label=\"Валідаційні втрати\")\n",
    "plt.xlabel(\"Епоха\")\n",
    "plt.ylabel(\"Loss\")\n",
    "plt.legend()\n",
    "plt.title(\"Крива втрат\")\n",
    "\n",
    "# Крива точності\n",
    "plt.subplot(1, 2, 2)\n",
    "plt.plot(train_accuracies, label=\"Тренувальна точність\")\n",
    "plt.plot(val_accuracies, label=\"Валідаційна точність\")\n",
    "plt.xlabel(\"Епоха\")\n",
    "plt.ylabel(\"Accuracy\")\n",
    "plt.legend()\n",
    "plt.title(\"Крива точності\")\n",
    "\n",
    "plt.show()\n"
   ]
  },
  {
   "cell_type": "markdown",
   "id": "2f7cb899-d839-4529-b644-d3cd0c252160",
   "metadata": {},
   "source": [
    "### Аналіз помилкових передбачень"
   ]
  },
  {
   "cell_type": "markdown",
   "id": "1bfaed20-8e19-460b-8b54-a5f9153ff1ff",
   "metadata": {},
   "source": [
    "1. Крива втрат (Loss Curve)\n",
    "- 🔹 Спостерігається стабільне зниження втрат як на тренувальному, так і на валідаційному наборах.\n",
    "- 🔹 Валідаційні втрати трохи нижчі, що може свідчити про хорошу генералізацію.\n",
    "- 🔹 Відсутнє перенавчання — втрати на тренуванні і валідації йдуть синхронно.\n",
    "\n",
    "2. Крива точності (Accuracy Curve)\n",
    "- 🔹 Різкий приріст точності в перші кілька епох, що є очікуваним при навчанні моделі.\n",
    "- 🔹 Валідаційна точність вища за тренувальну, що може свідчити про ефективність регуляризації або специфіку набору даних.\n",
    "- 🔹 Стабілізація після 7-8 епох, що означає, що модель майже досягла плато в навчанні."
   ]
  },
  {
   "cell_type": "markdown",
   "id": "d6b3f99c-f28a-437e-84c1-23d50afb1761",
   "metadata": {},
   "source": [
    "## 9. Покращення моделі (опціонально)"
   ]
  },
  {
   "cell_type": "markdown",
   "id": "1a8d397a-c65c-46b7-a41d-8f13205af3d4",
   "metadata": {},
   "source": [
    "1. Глибша CNN:\n",
    "\n",
    "- Додати ще один згортковий шар (Conv2D) для кращого виявлення особливостей.\n",
    "- Використати більше фільтрів (наприклад, 128 → 256).\n",
    "\n",
    "2. Dropout:\n",
    "\n",
    "- Додати nn.Dropout(0.3-0.5) перед повнозв’язними шарами, щоб уникнути перенавчання.\n",
    "\n",
    "3. Batch Normalization:\n",
    "\n",
    "- Додати nn.BatchNorm2d() після згорткових шарів для нормалізації активацій."
   ]
  },
  {
   "cell_type": "markdown",
   "id": "f8781e94-896a-436e-8bfe-7beec9704efb",
   "metadata": {},
   "source": [
    "## Аугментація та підготовка даних"
   ]
  },
  {
   "cell_type": "code",
   "execution_count": 25,
   "id": "fecf1f92-e801-443a-8873-e91cc8705fad",
   "metadata": {},
   "outputs": [],
   "source": [
    "# Імпортуємо необхідні бібліотеки\n",
    "import torch\n",
    "from torchvision import datasets, transforms\n",
    "from torch.utils.data import DataLoader\n",
    "\n",
    "# Аугментація для навчального набору\n",
    "train_transforms = transforms.Compose([\n",
    "    transforms.RandomHorizontalFlip(),\n",
    "    transforms.RandomRotation(15),\n",
    "    transforms.ColorJitter(brightness=0.2, contrast=0.2),\n",
    "    transforms.RandomResizedCrop(150, scale=(0.8, 1.0)),\n",
    "    transforms.ToTensor(),\n",
    "    transforms.Normalize(mean=[0.5], std=[0.5])\n",
    "])\n",
    "\n",
    "# Стандартні перетворення для валідації та тесту\n",
    "val_transforms = transforms.Compose([\n",
    "    transforms.Resize((150, 150)),\n",
    "    transforms.ToTensor(),\n",
    "    transforms.Normalize(mean=[0.5], std=[0.5])\n",
    "])\n",
    "\n",
    "# Завантаження датасетів\n",
    "train_dataset = datasets.ImageFolder(\"seg_train\", transform=train_transforms)\n",
    "val_dataset = datasets.ImageFolder(\"seg_test\", transform=val_transforms)\n",
    "\n",
    "# DataLoader\n",
    "train_loader = DataLoader(train_dataset, batch_size=32, shuffle=True, num_workers=2)\n",
    "val_loader = DataLoader(val_dataset, batch_size=32, shuffle=False, num_workers=2)\n",
    "\n",
    "# Визначення пристрою (GPU/CPU)\n",
    "device = torch.device(\"cuda\" if torch.cuda.is_available() else \"cpu\")\n"
   ]
  },
  {
   "cell_type": "markdown",
   "id": "0b1e1f80-e2c9-464a-a61d-6148e983368d",
   "metadata": {},
   "source": [
    "## Використання Transfer Learning (ResNet50)"
   ]
  },
  {
   "cell_type": "code",
   "execution_count": 26,
   "id": "f6200ec8-ce78-41ea-890a-181874527f63",
   "metadata": {},
   "outputs": [
    {
     "name": "stderr",
     "output_type": "stream",
     "text": [
      "C:\\Users\\anton\\.conda\\envs\\dl_hw\\Lib\\site-packages\\torchvision\\models\\_utils.py:208: UserWarning: The parameter 'pretrained' is deprecated since 0.13 and may be removed in the future, please use 'weights' instead.\n",
      "  warnings.warn(\n",
      "C:\\Users\\anton\\.conda\\envs\\dl_hw\\Lib\\site-packages\\torchvision\\models\\_utils.py:223: UserWarning: Arguments other than a weight enum or `None` for 'weights' are deprecated since 0.13 and may be removed in the future. The current behavior is equivalent to passing `weights=ResNet50_Weights.IMAGENET1K_V1`. You can also use `weights=ResNet50_Weights.DEFAULT` to get the most up-to-date weights.\n",
      "  warnings.warn(msg)\n",
      "Downloading: \"https://download.pytorch.org/models/resnet50-0676ba61.pth\" to C:\\Users\\anton/.cache\\torch\\hub\\checkpoints\\resnet50-0676ba61.pth\n",
      "100%|█████████████████████████████████████████████████████████████████████████████| 97.8M/97.8M [00:02<00:00, 41.7MB/s]\n"
     ]
    }
   ],
   "source": [
    "# Завантажуємо попередньо натреновану модель ResNet50\n",
    "model = models.resnet50(pretrained=True)\n",
    "\n",
    "# Заморожуємо всі шари, окрім останнього блоку\n",
    "for param in model.parameters():\n",
    "    param.requires_grad = False\n",
    "\n",
    "# Оновлюємо лише останній повнозв’язний шар\n",
    "num_ftrs = model.fc.in_features\n",
    "model.fc = nn.Linear(num_ftrs, 6)  # Кількість класів = 6\n",
    "\n",
    "# Переміщуємо модель на GPU (якщо доступний)\n",
    "model = model.to(device)\n"
   ]
  },
  {
   "cell_type": "markdown",
   "id": "c05bcfd2-c30b-4cd6-880d-2a0fcb63c279",
   "metadata": {},
   "source": [
    "## Налаштування оптимізатора та функції втрат"
   ]
  },
  {
   "cell_type": "code",
   "execution_count": 27,
   "id": "84df47c8-fe69-4f6f-b932-bc8c669234df",
   "metadata": {},
   "outputs": [],
   "source": [
    "criterion = nn.CrossEntropyLoss()\n",
    "\n",
    "# Використання SGD із моментумом\n",
    "optimizer = optim.SGD(model.fc.parameters(), lr=0.01, momentum=0.9)\n",
    "\n",
    "# Динамічне зменшення learning rate\n",
    "scheduler = optim.lr_scheduler.StepLR(optimizer, step_size=3, gamma=0.1)\n"
   ]
  },
  {
   "cell_type": "markdown",
   "id": "7d5a7e68-bb3e-46a9-bfe0-257823c65d59",
   "metadata": {},
   "source": [
    "## Навчання моделі"
   ]
  },
  {
   "cell_type": "code",
   "execution_count": 28,
   "id": "09336cc5-2713-418a-9cf3-9e118fbe64f3",
   "metadata": {},
   "outputs": [
    {
     "name": "stdout",
     "output_type": "stream",
     "text": [
      "Епоха [1/10] | Час: 60.58с\n",
      "   Тренувальна втрата: 0.5585, Точність: 80.65%\n",
      "   Валідаційна втрата: 0.4150, Точність: 86.80%\n",
      "   🔥 Збережено найкращу модель!\n",
      "Епоха [2/10] | Час: 58.29с\n",
      "   Тренувальна втрата: 0.4676, Точність: 84.51%\n",
      "   Валідаційна втрата: 0.4383, Точність: 85.70%\n",
      "Епоха [3/10] | Час: 58.08с\n",
      "   Тренувальна втрата: 0.4491, Точність: 85.14%\n",
      "   Валідаційна втрата: 0.4651, Точність: 86.37%\n",
      "Епоха [4/10] | Час: 60.70с\n",
      "   Тренувальна втрата: 0.3467, Точність: 88.01%\n",
      "   Валідаційна втрата: 0.3345, Точність: 89.13%\n",
      "   🔥 Збережено найкращу модель!\n",
      "Епоха [5/10] | Час: 65.11с\n",
      "   Тренувальна втрата: 0.3337, Точність: 88.14%\n",
      "   Валідаційна втрата: 0.3288, Точність: 88.87%\n",
      "   🔥 Збережено найкращу модель!\n",
      "Епоха [6/10] | Час: 54.13с\n",
      "   Тренувальна втрата: 0.3256, Точність: 88.04%\n",
      "   Валідаційна втрата: 0.3095, Точність: 89.60%\n",
      "   🔥 Збережено найкращу модель!\n",
      "Епоха [7/10] | Час: 54.18с\n",
      "   Тренувальна втрата: 0.3047, Точність: 89.09%\n",
      "   Валідаційна втрата: 0.3046, Точність: 89.47%\n",
      "   🔥 Збережено найкращу модель!\n",
      "Епоха [8/10] | Час: 54.97с\n",
      "   Тренувальна втрата: 0.3069, Точність: 88.81%\n",
      "   Валідаційна втрата: 0.3114, Точність: 89.50%\n",
      "Епоха [9/10] | Час: 54.56с\n",
      "   Тренувальна втрата: 0.3074, Точність: 89.10%\n",
      "   Валідаційна втрата: 0.2975, Точність: 89.70%\n",
      "   🔥 Збережено найкращу модель!\n",
      "Епоха [10/10] | Час: 54.81с\n",
      "   Тренувальна втрата: 0.3024, Точність: 89.16%\n",
      "   Валідаційна втрата: 0.3049, Точність: 89.70%\n",
      "✅ Навчання завершено! Модель збережено у 'best_resnet_model.pth'\n"
     ]
    }
   ],
   "source": [
    "num_epochs = 10\n",
    "best_val_loss = float(\"inf\")\n",
    "\n",
    "for epoch in range(num_epochs):\n",
    "    model.train()\n",
    "    running_loss = 0.0\n",
    "    correct_train = 0\n",
    "    total_train = 0\n",
    "    start_time = time.time()\n",
    "\n",
    "    for images, labels in train_loader:\n",
    "        images, labels = images.to(device), labels.to(device)\n",
    "\n",
    "        optimizer.zero_grad()\n",
    "        outputs = model(images)\n",
    "        loss = criterion(outputs, labels)\n",
    "\n",
    "        loss.backward()\n",
    "        optimizer.step()\n",
    "\n",
    "        running_loss += loss.item()\n",
    "        _, predicted = torch.max(outputs, 1)\n",
    "        correct_train += (predicted == labels).sum().item()\n",
    "        total_train += labels.size(0)\n",
    "\n",
    "    # Валідація\n",
    "    model.eval()\n",
    "    val_loss = 0.0\n",
    "    correct_val = 0\n",
    "    total_val = 0\n",
    "\n",
    "    with torch.no_grad():\n",
    "        for images, labels in val_loader:\n",
    "            images, labels = images.to(device), labels.to(device)\n",
    "\n",
    "            outputs = model(images)\n",
    "            loss = criterion(outputs, labels)\n",
    "            val_loss += loss.item()\n",
    "\n",
    "            _, predicted = torch.max(outputs, 1)\n",
    "            correct_val += (predicted == labels).sum().item()\n",
    "            total_val += labels.size(0)\n",
    "\n",
    "    avg_train_loss = running_loss / len(train_loader)\n",
    "    avg_val_loss = val_loss / len(val_loader)\n",
    "    train_accuracy = 100 * correct_train / total_train\n",
    "    val_accuracy = 100 * correct_val / total_val\n",
    "\n",
    "    end_time = time.time()\n",
    "    epoch_time = end_time - start_time\n",
    "\n",
    "    print(f\"Епоха [{epoch+1}/{num_epochs}] | Час: {epoch_time:.2f}с\")\n",
    "    print(f\"   Тренувальна втрата: {avg_train_loss:.4f}, Точність: {train_accuracy:.2f}%\")\n",
    "    print(f\"   Валідаційна втрата: {avg_val_loss:.4f}, Точність: {val_accuracy:.2f}%\")\n",
    "\n",
    "    if avg_val_loss < best_val_loss:\n",
    "        best_val_loss = avg_val_loss\n",
    "        torch.save(model.state_dict(), \"best_resnet_model.pth\")\n",
    "        print(\"   🔥 Збережено найкращу модель!\")\n",
    "\n",
    "    scheduler.step()\n",
    "\n",
    "print(\"✅ Навчання завершено! Модель збережено у 'best_resnet_model.pth'\")\n"
   ]
  },
  {
   "cell_type": "markdown",
   "id": "cb07523e-580c-4cb2-b893-939c13782d25",
   "metadata": {},
   "source": [
    "## Оцінка продуктивності"
   ]
  },
  {
   "cell_type": "code",
   "execution_count": 30,
   "id": "b059e5cc-078e-4102-a723-845c51c2dc6a",
   "metadata": {},
   "outputs": [
    {
     "name": "stdout",
     "output_type": "stream",
     "text": [
      "\n",
      "🔹 Classification Report:\n",
      "              precision    recall  f1-score   support\n",
      "\n",
      "   buildings       0.89      0.93      0.91       437\n",
      "      forest       0.97      0.99      0.98       474\n",
      "     glacier       0.84      0.84      0.84       553\n",
      "    mountain       0.85      0.80      0.82       525\n",
      "         sea       0.91      0.94      0.93       510\n",
      "      street       0.92      0.90      0.91       501\n",
      "\n",
      "    accuracy                           0.90      3000\n",
      "   macro avg       0.90      0.90      0.90      3000\n",
      "weighted avg       0.90      0.90      0.90      3000\n",
      "\n",
      "\n",
      "🔹 Confusion Matrix:\n",
      "[[408   0   2   0   1  26]\n",
      " [  0 469   1   2   1   1]\n",
      " [  1   4 464  62  15   7]\n",
      " [  4   3  71 418  24   5]\n",
      " [  3   5  12   7 481   2]\n",
      " [ 45   1   0   0   4 451]]\n"
     ]
    }
   ],
   "source": [
    "from sklearn.metrics import classification_report, confusion_matrix\n",
    "import numpy as np\n",
    "\n",
    "# Завантажуємо найкращу модель\n",
    "model.load_state_dict(torch.load(\"best_resnet_model.pth\"))\n",
    "model.eval()\n",
    "\n",
    "y_true, y_pred = [], []\n",
    "\n",
    "with torch.no_grad():\n",
    "    for images, labels in val_loader:\n",
    "        images, labels = images.to(device), labels.to(device)\n",
    "        outputs = model(images)\n",
    "        _, predicted = torch.max(outputs, 1)\n",
    "        \n",
    "        y_true.extend(labels.cpu().numpy())\n",
    "        y_pred.extend(predicted.cpu().numpy())\n",
    "\n",
    "# Виведення метрик\n",
    "print(\"\\n🔹 Classification Report:\")\n",
    "print(classification_report(y_true, y_pred, target_names=train_dataset.classes))\n",
    "\n",
    "print(\"\\n🔹 Confusion Matrix:\")\n",
    "print(confusion_matrix(y_true, y_pred))\n"
   ]
  },
  {
   "attachments": {
    "cccba717-3294-4528-8a87-bda4549e1ee0.png": {
     "image/png": "[encoded data removed]"
    }
   },
   "cell_type": "markdown",
   "id": "5c7fd98b-c6a6-4a4b-b169-d75ac1f3b0e9",
   "metadata": {},
   "source": [
    "## інальний висновок після використання ResNet\n",
    "#### 1️⃣ Аналіз продуктивності\n",
    "\n",
    "- Класифікаційний звіт (Classification Report):\n",
    "    - Загальна точність 90.00%.\n",
    "    - Найкраща продуктивність у класах \"forest\" (99% recall, 97% precision) та \"sea\" (94% recall, 90% precision).\n",
    "    - Найнижчий F1-score у класах \"glacier\" (84%) та \"mountain\" (82%), що може свідчити про частіші помилки у цих категоріях.\n",
    "- Матриця помилок (Confusion Matrix):\n",
    "    - Найбільша кількість помилкових передбачень у класах \"glacier\" та \"mountain\", що вказує на можливість змішування між цими категоріями.\n",
    "    - Незначні помилки в інших класах, що може бути покращено за допомогою додаткових методів аугментації.\n",
    "\n",
    "### 2️⃣ Порівняння з попередніми результатами\n",
    "![image.png](attachment:cccba717-3294-4528-8a87-bda4549e1ee0.png)"
   ]
  },
  {
   "cell_type": "markdown",
   "id": "17dfde50-aa0a-4fbe-81f8-3d8219f25229",
   "metadata": {},
   "source": [
    "## 🔥 Замороження 🔥 :)"
   ]
  },
  {
   "cell_type": "code",
   "execution_count": 33,
   "id": "4dc71c96-2f46-4533-b452-fa57a9827fe1",
   "metadata": {},
   "outputs": [
    {
     "name": "stderr",
     "output_type": "stream",
     "text": [
      "Downloading: \"https://download.pytorch.org/models/resnet50-11ad3fa6.pth\" to C:\\Users\\anton/.cache\\torch\\hub\\checkpoints\\resnet50-11ad3fa6.pth\n",
      "100%|█████████████████████████████████████████████████████████████████████████████| 97.8M/97.8M [00:03<00:00, 31.8MB/s]\n"
     ]
    },
    {
     "name": "stdout",
     "output_type": "stream",
     "text": [
      "ResNet(\n",
      "  (conv1): Conv2d(3, 64, kernel_size=(7, 7), stride=(2, 2), padding=(3, 3), bias=False)\n",
      "  (bn1): BatchNorm2d(64, eps=1e-05, momentum=0.1, affine=True, track_running_stats=True)\n",
      "  (relu): ReLU(inplace=True)\n",
      "  (maxpool): MaxPool2d(kernel_size=3, stride=2, padding=1, dilation=1, ceil_mode=False)\n",
      "  (layer1): Sequential(\n",
      "    (0): Bottleneck(\n",
      "      (conv1): Conv2d(64, 64, kernel_size=(1, 1), stride=(1, 1), bias=False)\n",
      "      (bn1): BatchNorm2d(64, eps=1e-05, momentum=0.1, affine=True, track_running_stats=True)\n",
      "      (conv2): Conv2d(64, 64, kernel_size=(3, 3), stride=(1, 1), padding=(1, 1), bias=False)\n",
      "      (bn2): BatchNorm2d(64, eps=1e-05, momentum=0.1, affine=True, track_running_stats=True)\n",
      "      (conv3): Conv2d(64, 256, kernel_size=(1, 1), stride=(1, 1), bias=False)\n",
      "      (bn3): BatchNorm2d(256, eps=1e-05, momentum=0.1, affine=True, track_running_stats=True)\n",
      "      (relu): ReLU(inplace=True)\n",
      "      (downsample): Sequential(\n",
      "        (0): Conv2d(64, 256, kernel_size=(1, 1), stride=(1, 1), bias=False)\n",
      "        (1): BatchNorm2d(256, eps=1e-05, momentum=0.1, affine=True, track_running_stats=True)\n",
      "      )\n",
      "    )\n",
      "    (1): Bottleneck(\n",
      "      (conv1): Conv2d(256, 64, kernel_size=(1, 1), stride=(1, 1), bias=False)\n",
      "      (bn1): BatchNorm2d(64, eps=1e-05, momentum=0.1, affine=True, track_running_stats=True)\n",
      "      (conv2): Conv2d(64, 64, kernel_size=(3, 3), stride=(1, 1), padding=(1, 1), bias=False)\n",
      "      (bn2): BatchNorm2d(64, eps=1e-05, momentum=0.1, affine=True, track_running_stats=True)\n",
      "      (conv3): Conv2d(64, 256, kernel_size=(1, 1), stride=(1, 1), bias=False)\n",
      "      (bn3): BatchNorm2d(256, eps=1e-05, momentum=0.1, affine=True, track_running_stats=True)\n",
      "      (relu): ReLU(inplace=True)\n",
      "    )\n",
      "    (2): Bottleneck(\n",
      "      (conv1): Conv2d(256, 64, kernel_size=(1, 1), stride=(1, 1), bias=False)\n",
      "      (bn1): BatchNorm2d(64, eps=1e-05, momentum=0.1, affine=True, track_running_stats=True)\n",
      "      (conv2): Conv2d(64, 64, kernel_size=(3, 3), stride=(1, 1), padding=(1, 1), bias=False)\n",
      "      (bn2): BatchNorm2d(64, eps=1e-05, momentum=0.1, affine=True, track_running_stats=True)\n",
      "      (conv3): Conv2d(64, 256, kernel_size=(1, 1), stride=(1, 1), bias=False)\n",
      "      (bn3): BatchNorm2d(256, eps=1e-05, momentum=0.1, affine=True, track_running_stats=True)\n",
      "      (relu): ReLU(inplace=True)\n",
      "    )\n",
      "  )\n",
      "  (layer2): Sequential(\n",
      "    (0): Bottleneck(\n",
      "      (conv1): Conv2d(256, 128, kernel_size=(1, 1), stride=(1, 1), bias=False)\n",
      "      (bn1): BatchNorm2d(128, eps=1e-05, momentum=0.1, affine=True, track_running_stats=True)\n",
      "      (conv2): Conv2d(128, 128, kernel_size=(3, 3), stride=(2, 2), padding=(1, 1), bias=False)\n",
      "      (bn2): BatchNorm2d(128, eps=1e-05, momentum=0.1, affine=True, track_running_stats=True)\n",
      "      (conv3): Conv2d(128, 512, kernel_size=(1, 1), stride=(1, 1), bias=False)\n",
      "      (bn3): BatchNorm2d(512, eps=1e-05, momentum=0.1, affine=True, track_running_stats=True)\n",
      "      (relu): ReLU(inplace=True)\n",
      "      (downsample): Sequential(\n",
      "        (0): Conv2d(256, 512, kernel_size=(1, 1), stride=(2, 2), bias=False)\n",
      "        (1): BatchNorm2d(512, eps=1e-05, momentum=0.1, affine=True, track_running_stats=True)\n",
      "      )\n",
      "    )\n",
      "    (1): Bottleneck(\n",
      "      (conv1): Conv2d(512, 128, kernel_size=(1, 1), stride=(1, 1), bias=False)\n",
      "      (bn1): BatchNorm2d(128, eps=1e-05, momentum=0.1, affine=True, track_running_stats=True)\n",
      "      (conv2): Conv2d(128, 128, kernel_size=(3, 3), stride=(1, 1), padding=(1, 1), bias=False)\n",
      "      (bn2): BatchNorm2d(128, eps=1e-05, momentum=0.1, affine=True, track_running_stats=True)\n",
      "      (conv3): Conv2d(128, 512, kernel_size=(1, 1), stride=(1, 1), bias=False)\n",
      "      (bn3): BatchNorm2d(512, eps=1e-05, momentum=0.1, affine=True, track_running_stats=True)\n",
      "      (relu): ReLU(inplace=True)\n",
      "    )\n",
      "    (2): Bottleneck(\n",
      "      (conv1): Conv2d(512, 128, kernel_size=(1, 1), stride=(1, 1), bias=False)\n",
      "      (bn1): BatchNorm2d(128, eps=1e-05, momentum=0.1, affine=True, track_running_stats=True)\n",
      "      (conv2): Conv2d(128, 128, kernel_size=(3, 3), stride=(1, 1), padding=(1, 1), bias=False)\n",
      "      (bn2): BatchNorm2d(128, eps=1e-05, momentum=0.1, affine=True, track_running_stats=True)\n",
      "      (conv3): Conv2d(128, 512, kernel_size=(1, 1), stride=(1, 1), bias=False)\n",
      "      (bn3): BatchNorm2d(512, eps=1e-05, momentum=0.1, affine=True, track_running_stats=True)\n",
      "      (relu): ReLU(inplace=True)\n",
      "    )\n",
      "    (3): Bottleneck(\n",
      "      (conv1): Conv2d(512, 128, kernel_size=(1, 1), stride=(1, 1), bias=False)\n",
      "      (bn1): BatchNorm2d(128, eps=1e-05, momentum=0.1, affine=True, track_running_stats=True)\n",
      "      (conv2): Conv2d(128, 128, kernel_size=(3, 3), stride=(1, 1), padding=(1, 1), bias=False)\n",
      "      (bn2): BatchNorm2d(128, eps=1e-05, momentum=0.1, affine=True, track_running_stats=True)\n",
      "      (conv3): Conv2d(128, 512, kernel_size=(1, 1), stride=(1, 1), bias=False)\n",
      "      (bn3): BatchNorm2d(512, eps=1e-05, momentum=0.1, affine=True, track_running_stats=True)\n",
      "      (relu): ReLU(inplace=True)\n",
      "    )\n",
      "  )\n",
      "  (layer3): Sequential(\n",
      "    (0): Bottleneck(\n",
      "      (conv1): Conv2d(512, 256, kernel_size=(1, 1), stride=(1, 1), bias=False)\n",
      "      (bn1): BatchNorm2d(256, eps=1e-05, momentum=0.1, affine=True, track_running_stats=True)\n",
      "      (conv2): Conv2d(256, 256, kernel_size=(3, 3), stride=(2, 2), padding=(1, 1), bias=False)\n",
      "      (bn2): BatchNorm2d(256, eps=1e-05, momentum=0.1, affine=True, track_running_stats=True)\n",
      "      (conv3): Conv2d(256, 1024, kernel_size=(1, 1), stride=(1, 1), bias=False)\n",
      "      (bn3): BatchNorm2d(1024, eps=1e-05, momentum=0.1, affine=True, track_running_stats=True)\n",
      "      (relu): ReLU(inplace=True)\n",
      "      (downsample): Sequential(\n",
      "        (0): Conv2d(512, 1024, kernel_size=(1, 1), stride=(2, 2), bias=False)\n",
      "        (1): BatchNorm2d(1024, eps=1e-05, momentum=0.1, affine=True, track_running_stats=True)\n",
      "      )\n",
      "    )\n",
      "    (1): Bottleneck(\n",
      "      (conv1): Conv2d(1024, 256, kernel_size=(1, 1), stride=(1, 1), bias=False)\n",
      "      (bn1): BatchNorm2d(256, eps=1e-05, momentum=0.1, affine=True, track_running_stats=True)\n",
      "      (conv2): Conv2d(256, 256, kernel_size=(3, 3), stride=(1, 1), padding=(1, 1), bias=False)\n",
      "      (bn2): BatchNorm2d(256, eps=1e-05, momentum=0.1, affine=True, track_running_stats=True)\n",
      "      (conv3): Conv2d(256, 1024, kernel_size=(1, 1), stride=(1, 1), bias=False)\n",
      "      (bn3): BatchNorm2d(1024, eps=1e-05, momentum=0.1, affine=True, track_running_stats=True)\n",
      "      (relu): ReLU(inplace=True)\n",
      "    )\n",
      "    (2): Bottleneck(\n",
      "      (conv1): Conv2d(1024, 256, kernel_size=(1, 1), stride=(1, 1), bias=False)\n",
      "      (bn1): BatchNorm2d(256, eps=1e-05, momentum=0.1, affine=True, track_running_stats=True)\n",
      "      (conv2): Conv2d(256, 256, kernel_size=(3, 3), stride=(1, 1), padding=(1, 1), bias=False)\n",
      "      (bn2): BatchNorm2d(256, eps=1e-05, momentum=0.1, affine=True, track_running_stats=True)\n",
      "      (conv3): Conv2d(256, 1024, kernel_size=(1, 1), stride=(1, 1), bias=False)\n",
      "      (bn3): BatchNorm2d(1024, eps=1e-05, momentum=0.1, affine=True, track_running_stats=True)\n",
      "      (relu): ReLU(inplace=True)\n",
      "    )\n",
      "    (3): Bottleneck(\n",
      "      (conv1): Conv2d(1024, 256, kernel_size=(1, 1), stride=(1, 1), bias=False)\n",
      "      (bn1): BatchNorm2d(256, eps=1e-05, momentum=0.1, affine=True, track_running_stats=True)\n",
      "      (conv2): Conv2d(256, 256, kernel_size=(3, 3), stride=(1, 1), padding=(1, 1), bias=False)\n",
      "      (bn2): BatchNorm2d(256, eps=1e-05, momentum=0.1, affine=True, track_running_stats=True)\n",
      "      (conv3): Conv2d(256, 1024, kernel_size=(1, 1), stride=(1, 1), bias=False)\n",
      "      (bn3): BatchNorm2d(1024, eps=1e-05, momentum=0.1, affine=True, track_running_stats=True)\n",
      "      (relu): ReLU(inplace=True)\n",
      "    )\n",
      "    (4): Bottleneck(\n",
      "      (conv1): Conv2d(1024, 256, kernel_size=(1, 1), stride=(1, 1), bias=False)\n",
      "      (bn1): BatchNorm2d(256, eps=1e-05, momentum=0.1, affine=True, track_running_stats=True)\n",
      "      (conv2): Conv2d(256, 256, kernel_size=(3, 3), stride=(1, 1), padding=(1, 1), bias=False)\n",
      "      (bn2): BatchNorm2d(256, eps=1e-05, momentum=0.1, affine=True, track_running_stats=True)\n",
      "      (conv3): Conv2d(256, 1024, kernel_size=(1, 1), stride=(1, 1), bias=False)\n",
      "      (bn3): BatchNorm2d(1024, eps=1e-05, momentum=0.1, affine=True, track_running_stats=True)\n",
      "      (relu): ReLU(inplace=True)\n",
      "    )\n",
      "    (5): Bottleneck(\n",
      "      (conv1): Conv2d(1024, 256, kernel_size=(1, 1), stride=(1, 1), bias=False)\n",
      "      (bn1): BatchNorm2d(256, eps=1e-05, momentum=0.1, affine=True, track_running_stats=True)\n",
      "      (conv2): Conv2d(256, 256, kernel_size=(3, 3), stride=(1, 1), padding=(1, 1), bias=False)\n",
      "      (bn2): BatchNorm2d(256, eps=1e-05, momentum=0.1, affine=True, track_running_stats=True)\n",
      "      (conv3): Conv2d(256, 1024, kernel_size=(1, 1), stride=(1, 1), bias=False)\n",
      "      (bn3): BatchNorm2d(1024, eps=1e-05, momentum=0.1, affine=True, track_running_stats=True)\n",
      "      (relu): ReLU(inplace=True)\n",
      "    )\n",
      "  )\n",
      "  (layer4): Sequential(\n",
      "    (0): Bottleneck(\n",
      "      (conv1): Conv2d(1024, 512, kernel_size=(1, 1), stride=(1, 1), bias=False)\n",
      "      (bn1): BatchNorm2d(512, eps=1e-05, momentum=0.1, affine=True, track_running_stats=True)\n",
      "      (conv2): Conv2d(512, 512, kernel_size=(3, 3), stride=(2, 2), padding=(1, 1), bias=False)\n",
      "      (bn2): BatchNorm2d(512, eps=1e-05, momentum=0.1, affine=True, track_running_stats=True)\n",
      "      (conv3): Conv2d(512, 2048, kernel_size=(1, 1), stride=(1, 1), bias=False)\n",
      "      (bn3): BatchNorm2d(2048, eps=1e-05, momentum=0.1, affine=True, track_running_stats=True)\n",
      "      (relu): ReLU(inplace=True)\n",
      "      (downsample): Sequential(\n",
      "        (0): Conv2d(1024, 2048, kernel_size=(1, 1), stride=(2, 2), bias=False)\n",
      "        (1): BatchNorm2d(2048, eps=1e-05, momentum=0.1, affine=True, track_running_stats=True)\n",
      "      )\n",
      "    )\n",
      "    (1): Bottleneck(\n",
      "      (conv1): Conv2d(2048, 512, kernel_size=(1, 1), stride=(1, 1), bias=False)\n",
      "      (bn1): BatchNorm2d(512, eps=1e-05, momentum=0.1, affine=True, track_running_stats=True)\n",
      "      (conv2): Conv2d(512, 512, kernel_size=(3, 3), stride=(1, 1), padding=(1, 1), bias=False)\n",
      "      (bn2): BatchNorm2d(512, eps=1e-05, momentum=0.1, affine=True, track_running_stats=True)\n",
      "      (conv3): Conv2d(512, 2048, kernel_size=(1, 1), stride=(1, 1), bias=False)\n",
      "      (bn3): BatchNorm2d(2048, eps=1e-05, momentum=0.1, affine=True, track_running_stats=True)\n",
      "      (relu): ReLU(inplace=True)\n",
      "    )\n",
      "    (2): Bottleneck(\n",
      "      (conv1): Conv2d(2048, 512, kernel_size=(1, 1), stride=(1, 1), bias=False)\n",
      "      (bn1): BatchNorm2d(512, eps=1e-05, momentum=0.1, affine=True, track_running_stats=True)\n",
      "      (conv2): Conv2d(512, 512, kernel_size=(3, 3), stride=(1, 1), padding=(1, 1), bias=False)\n",
      "      (bn2): BatchNorm2d(512, eps=1e-05, momentum=0.1, affine=True, track_running_stats=True)\n",
      "      (conv3): Conv2d(512, 2048, kernel_size=(1, 1), stride=(1, 1), bias=False)\n",
      "      (bn3): BatchNorm2d(2048, eps=1e-05, momentum=0.1, affine=True, track_running_stats=True)\n",
      "      (relu): ReLU(inplace=True)\n",
      "    )\n",
      "  )\n",
      "  (avgpool): AdaptiveAvgPool2d(output_size=(1, 1))\n",
      "  (fc): Linear(in_features=2048, out_features=6, bias=True)\n",
      ")\n"
     ]
    }
   ],
   "source": [
    "import torch\n",
    "import torch.nn as nn\n",
    "import torchvision.models as models\n",
    "\n",
    "# Завантажуємо попередньо навчену модель ResNet50\n",
    "model = models.resnet50(weights=models.ResNet50_Weights.DEFAULT)\n",
    "\n",
    "# **Заморожуємо** всі шари, окрім останнього блоку та FC-шару\n",
    "for param in model.parameters():\n",
    "    param.requires_grad = False\n",
    "\n",
    "# **Розморожуємо останній блок layer4**\n",
    "for param in model.layer4.parameters():\n",
    "    param.requires_grad = True\n",
    "\n",
    "# Замінюємо останній шар, щоб відповідати нашій кількості класів (6)\n",
    "num_features = model.fc.in_features\n",
    "model.fc = nn.Linear(num_features, 6)\n",
    "\n",
    "# Переміщуємо модель на GPU (якщо доступно)\n",
    "device = torch.device(\"cuda\" if torch.cuda.is_available() else \"cpu\")\n",
    "model = model.to(device)\n",
    "\n",
    "# Вибираємо функцію втрат і оптимізатор\n",
    "criterion = nn.CrossEntropyLoss()\n",
    "optimizer = torch.optim.Adam(model.fc.parameters(), lr=0.001)\n",
    "\n",
    "# Зберігаємо модель перед навчанням\n",
    "torch.save(model.state_dict(), \"best_resnet_frozen.pth\")\n",
    "\n",
    "# Виведемо структуру моделі після змін\n",
    "print(model)\n"
   ]
  },
  {
   "cell_type": "code",
   "execution_count": 34,
   "id": "1a4e7301-97a1-45cb-a2a1-453e3e131811",
   "metadata": {},
   "outputs": [
    {
     "name": "stdout",
     "output_type": "stream",
     "text": [
      "Епоха [1/10] | Час: 62.10с\n",
      "   Тренувальна втрата: 0.5272, Точність: 83.58%\n",
      "   Валідаційна втрата: 0.3212, Точність: 89.10%\n",
      "   🔥 Збережено найкращу модель!\n",
      "Епоха [2/10] | Час: 64.55с\n",
      "   Тренувальна втрата: 0.3385, Точність: 88.22%\n",
      "   Валідаційна втрата: 0.2725, Точність: 90.13%\n",
      "   🔥 Збережено найкращу модель!\n",
      "Епоха [3/10] | Час: 67.09с\n",
      "   Тренувальна втрата: 0.3148, Точність: 89.13%\n",
      "   Валідаційна втрата: 0.2623, Точність: 90.53%\n",
      "   🔥 Збережено найкращу модель!\n",
      "Епоха [4/10] | Час: 64.49с\n",
      "   Тренувальна втрата: 0.3040, Точність: 89.05%\n",
      "   Валідаційна втрата: 0.2568, Точність: 90.37%\n",
      "   🔥 Збережено найкращу модель!\n",
      "Епоха [5/10] | Час: 55.49с\n",
      "   Тренувальна втрата: 0.2878, Точність: 89.85%\n",
      "   Валідаційна втрата: 0.2597, Точність: 90.10%\n",
      "Епоха [6/10] | Час: 54.56с\n",
      "   Тренувальна втрата: 0.2791, Точність: 89.90%\n",
      "   Валідаційна втрата: 0.2487, Точність: 91.10%\n",
      "   🔥 Збережено найкращу модель!\n",
      "Епоха [7/10] | Час: 55.02с\n",
      "   Тренувальна втрата: 0.2751, Точність: 89.87%\n",
      "   Валідаційна втрата: 0.2405, Точність: 91.03%\n",
      "   🔥 Збережено найкращу модель!\n",
      "Епоха [8/10] | Час: 55.04с\n",
      "   Тренувальна втрата: 0.2750, Точність: 90.08%\n",
      "   Валідаційна втрата: 0.2408, Точність: 91.37%\n",
      "Епоха [9/10] | Час: 63.11с\n",
      "   Тренувальна втрата: 0.2666, Точність: 90.37%\n",
      "   Валідаційна втрата: 0.2543, Точність: 90.93%\n",
      "Епоха [10/10] | Час: 66.77с\n",
      "   Тренувальна втрата: 0.2601, Точність: 90.73%\n",
      "   Валідаційна втрата: 0.2406, Точність: 91.33%\n",
      "✅ Навчання завершено! Модель збережено у 'best_resnet_frozen.pth'\n"
     ]
    }
   ],
   "source": [
    "import torch\n",
    "import torch.nn as nn\n",
    "import torch.optim as optim\n",
    "from torchvision import models\n",
    "from torch.utils.data import DataLoader\n",
    "import time\n",
    "\n",
    "# Завантажуємо попередньо натреновану ResNet50\n",
    "model = models.resnet50(weights=models.ResNet50_Weights.DEFAULT)\n",
    "\n",
    "# Заморожуємо всі шари, окрім останніх (layer4 та fc)\n",
    "for param in model.parameters():\n",
    "    param.requires_grad = False\n",
    "\n",
    "# Розморожуємо останній блок (layer4) та класифікаційний шар (fc)\n",
    "for param in model.layer4.parameters():\n",
    "    param.requires_grad = True\n",
    "for param in model.fc.parameters():\n",
    "    param.requires_grad = True\n",
    "\n",
    "# Оновлюємо вихідний шар під наші 6 класів\n",
    "num_ftrs = model.fc.in_features\n",
    "model.fc = nn.Linear(num_ftrs, 6)\n",
    "\n",
    "# Відправляємо модель на GPU (якщо доступно)\n",
    "device = torch.device(\"cuda\" if torch.cuda.is_available() else \"cpu\")\n",
    "model = model.to(device)\n",
    "\n",
    "# Визначаємо функцію втрат і оптимізатор\n",
    "criterion = nn.CrossEntropyLoss()\n",
    "optimizer = optim.Adam(model.fc.parameters(), lr=0.001)  # Тренуємо тільки розморожені шари\n",
    "\n",
    "# Гіперпараметри\n",
    "num_epochs = 10\n",
    "best_val_loss = float(\"inf\")\n",
    "\n",
    "# Основний цикл навчання\n",
    "for epoch in range(num_epochs):\n",
    "    model.train()\n",
    "    running_loss = 0.0\n",
    "    correct_train = 0\n",
    "    total_train = 0\n",
    "\n",
    "    start_time = time.time()\n",
    "\n",
    "    for images, labels in train_loader:\n",
    "        images, labels = images.to(device), labels.to(device)\n",
    "\n",
    "        optimizer.zero_grad()\n",
    "        outputs = model(images)\n",
    "        loss = criterion(outputs, labels)\n",
    "\n",
    "        loss.backward()\n",
    "        optimizer.step()\n",
    "\n",
    "        running_loss += loss.item()\n",
    "        _, predicted = torch.max(outputs, 1)\n",
    "        correct_train += (predicted == labels).sum().item()\n",
    "        total_train += labels.size(0)\n",
    "\n",
    "    # Оцінка на валідаційному наборі\n",
    "    model.eval()\n",
    "    val_loss = 0.0\n",
    "    correct_val = 0\n",
    "    total_val = 0\n",
    "\n",
    "    with torch.no_grad():\n",
    "        for images, labels in val_loader:\n",
    "            images, labels = images.to(device), labels.to(device)\n",
    "\n",
    "            outputs = model(images)\n",
    "            loss = criterion(outputs, labels)\n",
    "            val_loss += loss.item()\n",
    "\n",
    "            _, predicted = torch.max(outputs, 1)\n",
    "            correct_val += (predicted == labels).sum().item()\n",
    "            total_val += labels.size(0)\n",
    "\n",
    "    avg_train_loss = running_loss / len(train_loader)\n",
    "    avg_val_loss = val_loss / len(val_loader)\n",
    "    train_accuracy = 100 * correct_train / total_train\n",
    "    val_accuracy = 100 * correct_val / total_val\n",
    "\n",
    "    end_time = time.time()\n",
    "    epoch_time = end_time - start_time\n",
    "\n",
    "    print(f\"Епоха [{epoch+1}/{num_epochs}] | Час: {epoch_time:.2f}с\")\n",
    "    print(f\"   Тренувальна втрата: {avg_train_loss:.4f}, Точність: {train_accuracy:.2f}%\")\n",
    "    print(f\"   Валідаційна втрата: {avg_val_loss:.4f}, Точність: {val_accuracy:.2f}%\")\n",
    "\n",
    "    # Збереження найкращої моделі\n",
    "    if avg_val_loss < best_val_loss:\n",
    "        best_val_loss = avg_val_loss\n",
    "        torch.save(model.state_dict(), \"best_resnet_frozen.pth\")\n",
    "        print(\"   🔥 Збережено найкращу модель!\")\n",
    "\n",
    "print(\"✅ Навчання завершено! Модель збережено у 'best_resnet_frozen.pth'\")\n"
   ]
  },
  {
   "cell_type": "markdown",
   "id": "0c3db1d1-0ec4-46ce-8bfc-b478f431b4cf",
   "metadata": {},
   "source": [
    "1. Прискорене навчання – кількість оновлюваних параметрів значно зменшилася, що дозволило швидше досягти хороших результатів.\n",
    "2. Покращена узагальнююча здатність – валідаційна точність зросла до 91.37%.\n",
    "3. Стабільність тренування – крива втрат виглядає більш плавною, що свідчить про покращену сходимість.\n",
    "4. Зменшення переобучення – валідаційна точність не знижується після певної кількості епох, що є позитивним сигналом.\n",
    "5. Фінальна модель:\n",
    "    - Найкраща валідаційна втрата: 0.2405\n",
    "    - Найкраща валідаційна точність: 91.37%\n",
    "    - Збережено у: 'best_resnet_frozen.pth'"
   ]
  },
  {
   "cell_type": "code",
   "execution_count": 35,
   "id": "1a498620-e3d2-4f08-92c6-4d0e75ee6ed4",
   "metadata": {},
   "outputs": [
    {
     "name": "stdout",
     "output_type": "stream",
     "text": [
      "\n",
      "🔹 Classification Report:\n",
      "              precision    recall  f1-score   support\n",
      "\n",
      "   buildings       0.91      0.93      0.92       437\n",
      "      forest       0.98      1.00      0.99       474\n",
      "     glacier       0.89      0.79      0.84       553\n",
      "    mountain       0.82      0.88      0.85       525\n",
      "         sea       0.94      0.95      0.95       510\n",
      "      street       0.94      0.93      0.93       501\n",
      "\n",
      "    accuracy                           0.91      3000\n",
      "   macro avg       0.91      0.91      0.91      3000\n",
      "weighted avg       0.91      0.91      0.91      3000\n",
      "\n",
      "\n",
      "🔹 Confusion Matrix:\n",
      "[[405   0   0   1   3  28]\n",
      " [  0 472   0   0   0   2]\n",
      " [  1   3 439  93  16   1]\n",
      " [  4   0  47 463  10   1]\n",
      " [  4   5   7   8 486   0]\n",
      " [ 33   0   0   1   1 466]]\n"
     ]
    }
   ],
   "source": [
    "from sklearn.metrics import classification_report, confusion_matrix\n",
    "import numpy as np\n",
    "import torch\n",
    "\n",
    "# Завантажуємо найкращу модель після замороження\n",
    "model.load_state_dict(torch.load(\"best_resnet_frozen.pth\"))\n",
    "model.eval()\n",
    "\n",
    "y_true, y_pred = [], []\n",
    "\n",
    "with torch.no_grad():\n",
    "    for images, labels in val_loader:\n",
    "        images, labels = images.to(device), labels.to(device)\n",
    "\n",
    "        outputs = model(images)\n",
    "        _, predicted = torch.max(outputs, 1)\n",
    "\n",
    "        y_true.extend(labels.cpu().numpy())\n",
    "        y_pred.extend(predicted.cpu().numpy())\n",
    "\n",
    "# Виводимо метрики\n",
    "print(\"\\n🔹 Classification Report:\")\n",
    "print(classification_report(y_true, y_pred, target_names=train_dataset.classes))\n",
    "\n",
    "print(\"\\n🔹 Confusion Matrix:\")\n",
    "print(confusion_matrix(y_true, y_pred))\n"
   ]
  },
  {
   "cell_type": "markdown",
   "id": "fa4e6d5d-f378-48da-964a-2d482c5f4563",
   "metadata": {},
   "source": [
    "- Загальна точність (accuracy): 91%\n",
    "- Precision, Recall, F1-score:\n",
    "    - Найкращі результати для класів forest (99%), sea (95%), street (94%).\n",
    "    - Найгірший клас – glacier (F1-score: 0.84, recall: 0.79), що свідчить про складність розпізнавання.\n",
    "\n",
    "- Confusion Matrix:\n",
    "    - Висока точність передбачення для більшості класів.\n",
    "    - glacier та mountain плутаються між собою, що є очікуваним через схожість зображень."
   ]
  },
  {
   "attachments": {
    "05fdc2d8-7d67-4a8b-805a-85533698476c.png": {
     "image/png": "[encoded data removed]"
    }
   },
   "cell_type": "markdown",
   "id": "073f5e67-e85e-46af-a975-3f1555dadacc",
   "metadata": {},
   "source": [
    "![image.png](attachment:05fdc2d8-7d67-4a8b-805a-85533698476c.png)"
   ]
  },
  {
   "cell_type": "code",
   "execution_count": null,
   "id": "a2177b40-8cd2-4cec-ad42-bae8c7396275",
   "metadata": {},
   "outputs": [],
   "source": []
  }
 ],
 "metadata": {
  "kernelspec": {
   "display_name": "Python 3 (ipykernel)",
   "language": "python",
   "name": "python3"
  },
  "language_info": {
   "codemirror_mode": {
    "name": "ipython",
    "version": 3
   },
   "file_extension": ".py",
   "mimetype": "text/x-python",
   "name": "python",
   "nbconvert_exporter": "python",
   "pygments_lexer": "ipython3",
   "version": "3.11.11"
  }
 },
 "nbformat": 4,
 "nbformat_minor": 5
}
